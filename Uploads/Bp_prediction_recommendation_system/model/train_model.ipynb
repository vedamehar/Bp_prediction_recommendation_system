{
 "cells": [
  {
   "cell_type": "markdown",
   "metadata": {},
   "source": [
    "# Blood Pressure Prediction Model Training\n",
    "\n",
    "This notebook contains the logic for training machine learning models to predict systolic and diastolic blood pressure based on extracted features."
   ]
  },
  {
   "cell_type": "code",
   "execution_count": null,
   "metadata": {
    "collapsed": false
   },
   "outputs": [],
   "source": [
    "import pandas as pd\n",
    "from sklearn.model_selection import train_test_split\n",
    "from sklearn.ensemble import RandomForestRegressor\n",
    "from sklearn.metrics import mean_squared_error\n",
    "from joblib import dump\n",
    "\n",
    "# Load the dataset\n",
    "data = pd.read_csv('rppg_features.csv')\n",
    "\n",
    "# Assume the dataset has 'systolic' and 'diastolic' as target variables\n",
    "X = data.drop(columns=['systolic', 'diastolic'])  # Features\n",
    "y_sys = data['systolic']  # Systolic target\n",
    "y_dia = data['diastolic']  # Diastolic target\n",
    "\n",
    "# Split the data into training and testing sets\n",
    "X_train, X_test, y_train_sys, y_test_sys = train_test_split(X, y_sys, test_size=0.2, random_state=42)\n",
    "X_train, X_test, y_train_dia, y_test_dia = train_test_split(X, y_dia, test_size=0.2, random_state=42)\n",
    "\n",
    "# Train the systolic model\n",
    "model_sys = RandomForestRegressor(n_estimators=100, random_state=42)\n",
    "model_sys.fit(X_train, y_train_sys)\n",
    "\n",
    "# Evaluate the systolic model\n",
    "predictions_sys = model_sys.predict(X_test)\n",
    "mse_sys = mean_squared_error(y_test_sys, predictions_sys)\n",
    "print(f'Systolic Model Mean Squared Error: {mse_sys}')\n",
    "\n",
    "# Save the systolic model\n",
    "dump(model_sys, 'python_src/models/systolic_model.joblib')\n",
    "\n",
    "# Train the diastolic model\n",
    "model_dia = RandomForestRegressor(n_estimators=100, random_state=42)\n",
    "model_dia.fit(X_train, y_train_dia)\n",
    "\n",
    "# Evaluate the diastolic model\n",
    "predictions_dia = model_dia.predict(X_test)\n",
    "mse_dia = mean_squared_error(y_test_dia, predictions_dia)\n",
    "print(f'Diastolic Model Mean Squared Error: {mse_dia}')\n",
    "\n",
    "# Save the diastolic model\n",
    "dump(model_dia, 'python_src/models/diastolic_model.joblib')"
   ]
  }
 ],
 "metadata": {
  "kernelspec": {
   "display_name": "Python 3",
   "language": "python",
   "name": "python3"
  },
  "language_info": {
   "codemirror_mode": {
    "name": "ipython",
    "version": 3
   },
   "file_extension": ".py",
   "mimetype": "text/x-python",
   "name": "python",
   "nbconvert_exporter": "python",
   "pygments_lexer": "ipython3",
   "version": "3.8.5"
  }
 },
 "nbformat": 4,
 "nbformat_minor": 4
}